{
 "cells": [
  {
   "cell_type": "markdown",
   "id": "7f41dd42",
   "metadata": {},
   "source": [
    "Машинное обучение. Вводная лекция. К.В. Воронцов, Школа анализа данных, Яндекс. \n",
    "https://www.youtube.com/watch?v=SZkrxWhI5qM&list=PLJOzdkh8T5krxc4HsHbB8g8f0hu7973fK&index=1\n",
    "\n",
    "Семинар: https://www.youtube.com/watch?v=bJVI5AIback&list=PLk4h7dmY2eYHHTyfLyrl7HmP-H3mMAW08&index=2\n",
    "Данные для dataset'а: https://archive.ics.uci.edu/ml/datasets/iris"
   ]
  },
  {
   "cell_type": "code",
   "execution_count": null,
   "id": "3054a151",
   "metadata": {},
   "outputs": [],
   "source": [
    "from sklearn.linear_model import LogisticRegression\n",
    "import matplotlib.pyplot as plt\n",
    "import seaborn as sns\n",
    "import numpy as np\n",
    "import pandas as pd\n",
    "\n",
    "dataset = pd.read_csv('iris.data', header=None, names=['длина чашелистика', 'ширина чашелистика', 'длина лепестка', \n",
    "                                                       'ширина лепестка', 'класс'])\n",
    "dataset.sample(5, random_state=0)"
   ]
  }
 ],
 "metadata": {
  "kernelspec": {
   "display_name": "Python 3 (ipykernel)",
   "language": "python",
   "name": "python3"
  },
  "language_info": {
   "codemirror_mode": {
    "name": "ipython",
    "version": 3
   },
   "file_extension": ".py",
   "mimetype": "text/x-python",
   "name": "python",
   "nbconvert_exporter": "python",
   "pygments_lexer": "ipython3",
   "version": "3.10.4"
  }
 },
 "nbformat": 4,
 "nbformat_minor": 5
}
